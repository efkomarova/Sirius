{
  "nbformat": 4,
  "nbformat_minor": 0,
  "metadata": {
    "colab": {
      "provenance": [],
      "toc_visible": true,
      "authorship_tag": "ABX9TyPUE+gbs7IIiBwkug+ktjVJ",
      "include_colab_link": true
    },
    "kernelspec": {
      "name": "python3",
      "display_name": "Python 3"
    },
    "language_info": {
      "name": "python"
    }
  },
  "cells": [
    {
      "cell_type": "markdown",
      "metadata": {
        "id": "view-in-github",
        "colab_type": "text"
      },
      "source": [
        "<a href=\"https://colab.research.google.com/github/efkomarova/Sirius/blob/main/Komarova_Ekaterina.ipynb\" target=\"_parent\"><img src=\"https://colab.research.google.com/assets/colab-badge.svg\" alt=\"Open In Colab\"/></a>"
      ]
    },
    {
      "cell_type": "markdown",
      "source": [
        "#Task 1"
      ],
      "metadata": {
        "id": "xoIasjOREhZN"
      }
    },
    {
      "cell_type": "markdown",
      "source": [
        "Задача 1*\n",
        "Дано пятизначное число. Найдите произведение его цифр.\n",
        "Пример ввода:\n",
        "14962\n",
        "Пример вывода:\n",
        "432"
      ],
      "metadata": {
        "id": "-zu1HUgRE8_U"
      }
    },
    {
      "cell_type": "code",
      "source": [
        "number = int(input(\"Введите пятизначное число: \"))\n",
        "\n",
        "product = 1\n",
        "for digit in str(number):\n",
        "    product *= int(digit)\n",
        "\n",
        "print(\"Произведение числа =\", product)"
      ],
      "metadata": {
        "colab": {
          "base_uri": "https://localhost:8080/"
        },
        "id": "Gttke3uZFJEI",
        "outputId": "7a561658-6c7d-4af8-d83e-65a1e7c247ac"
      },
      "execution_count": null,
      "outputs": [
        {
          "output_type": "stream",
          "name": "stdout",
          "text": [
            "Введите пятизначное число: 12345\n",
            "Произведение числа = 120\n"
          ]
        }
      ]
    },
    {
      "cell_type": "markdown",
      "source": [
        "#Task 2"
      ],
      "metadata": {
        "id": "SJ5KCrIzEnYh"
      }
    },
    {
      "cell_type": "markdown",
      "source": [
        "Задача 2*\n",
        "Дано шестизначное число. Найдите суммы его четных и нечетных элементов. Образуйте из них этих сумм одно число и выведите его на экран\n",
        "Пример ввода:\n",
        "531893\n",
        "Пример вывода:\n",
        "1514\n"
      ],
      "metadata": {
        "id": "InGRpI5tF0kp"
      }
    },
    {
      "cell_type": "code",
      "source": [
        "number = int(input(\"Введите шестизначное число: \"))\n",
        "\n",
        "chet_sum = 0\n",
        "nechet_sum = 0\n",
        "for digit in str(number):\n",
        "    digit = int(digit)\n",
        "    if digit % 2 == 0:\n",
        "        chet_sum += digit\n",
        "    else:\n",
        "        nechet_sum += digit\n",
        "\n",
        "result = f\"{chet_sum}{nechet_sum}\"\n",
        "print(\"Сумма четных и нечетных элементов числа =\",result)"
      ],
      "metadata": {
        "colab": {
          "base_uri": "https://localhost:8080/"
        },
        "id": "juEbc99GF2FM",
        "outputId": "365a7d23-27b4-4f42-ced4-fbb54415b258"
      },
      "execution_count": null,
      "outputs": [
        {
          "output_type": "stream",
          "name": "stdout",
          "text": [
            "Введите шестизначное число: 121212\n",
            "Сумма четных и нечетных элементов числа = 63\n"
          ]
        }
      ]
    },
    {
      "cell_type": "markdown",
      "source": [
        "#Task 3"
      ],
      "metadata": {
        "id": "bqfRVfjTEplv"
      }
    },
    {
      "cell_type": "markdown",
      "source": [
        "Задача 3*\n",
        "Вводится натуральное число N, а затем N чисел. Найти средее арифметическое всех чисел кратных 3. Если таких чисел нет, то вывести -1\n",
        "Пример ввода:\n",
        "6\n",
        "6\n",
        "3\n",
        "2\n",
        "42\n",
        "5\n",
        "12\n",
        "Пример вывода:\n",
        "15.75\n"
      ],
      "metadata": {
        "id": "aT2vE9J1GSRw"
      }
    },
    {
      "cell_type": "code",
      "source": [
        "n = int(input(\"Введите количество чисел \"))\n",
        "sum_ = 0\n",
        "count = 0\n",
        "for _ in range(n):\n",
        "  tmp = int(input(\"Введите число \"))\n",
        "  if tmp % 3 == 0:\n",
        "    sum_ += tmp\n",
        "    count += 1\n",
        "if count == 0:\n",
        "  print(-1)\n",
        "else:\n",
        "  print(\"Cредее арифметическое всех чисел кратных 3 =\", f\"{sum_ / count}\")"
      ],
      "metadata": {
        "colab": {
          "base_uri": "https://localhost:8080/"
        },
        "id": "TVAQ0cDwGaL2",
        "outputId": "a3028635-c915-4014-c417-bb70c764b346"
      },
      "execution_count": null,
      "outputs": [
        {
          "output_type": "stream",
          "name": "stdout",
          "text": [
            "Введите количество чисел 6\n",
            "Введите число 6\n",
            "Введите число 3\n",
            "Введите число 2\n",
            "Введите число 42\n",
            "Введите число 5\n",
            "Введите число 12\n",
            "Cредее арифметическое всех чисел кратных 3 = 15.75\n"
          ]
        }
      ]
    },
    {
      "cell_type": "markdown",
      "source": [
        "#Task 4"
      ],
      "metadata": {
        "id": "71ep0QidEs6b"
      }
    },
    {
      "cell_type": "markdown",
      "source": [
        "Задача 4*\n",
        "Дано натуральное число A > 1. Определите, каким по счету числом Фибоначчи оно является, то есть выведите такое число n, что φn=A. Если А не является числом Фибоначчи, выведите число -1.\n",
        "Пример ввода:\n",
        "8\n",
        "Пример вывода:\n",
        "6\n"
      ],
      "metadata": {
        "id": "mAJm9t6oKaty"
      }
    },
    {
      "cell_type": "code",
      "source": [
        "a = int(input(\"Введите натуральное число > 1 \"))\n",
        "\n",
        "def fibonacci(n:int) -> int:\n",
        "  f1,f2 = 0,1\n",
        "  if n == 0:\n",
        "      return 0\n",
        "  elif n == 1:\n",
        "      return 1\n",
        "  else:\n",
        "      return fibonacci(n-1) + fibonacci(n-2)\n",
        "\n",
        "\n",
        "def chek_fibonacci(number:int) -> int:\n",
        "  n=0\n",
        "  while fibonacci(n) <= number:\n",
        "    n += 1\n",
        "  if fibonacci(n-1) == number:\n",
        "    return n-1\n",
        "  else:\n",
        "    return -1\n",
        "\n",
        "print(\"По счету числом Фибоначчи оно является \",chek_fibonacci(a))"
      ],
      "metadata": {
        "colab": {
          "base_uri": "https://localhost:8080/"
        },
        "id": "sYBQ-nWOKg4t",
        "outputId": "cef363ff-c515-45f1-972a-61fc72d4d64c"
      },
      "execution_count": null,
      "outputs": [
        {
          "output_type": "stream",
          "name": "stdout",
          "text": [
            "Введите натуральное число > 1 8\n",
            "По счету числом Фибоначчи оно является  6\n"
          ]
        }
      ]
    },
    {
      "cell_type": "markdown",
      "source": [
        "#Task 5"
      ],
      "metadata": {
        "id": "sNnoaTi0ExDo"
      }
    },
    {
      "cell_type": "markdown",
      "source": [
        "Задача 5*\n",
        "По данному числу N распечатайте все целые значения степени двойки, не превосходящие N, в порядке возрастания.\n",
        "Пример ввода:\n",
        "50\n",
        "Пример вывода:\n",
        "1 2 4 8 16 32\n"
      ],
      "metadata": {
        "id": "poWQLBQ_L2eG"
      }
    },
    {
      "cell_type": "code",
      "source": [
        "N = int(input(\"Введите число: \"))\n",
        "\n",
        "power = 1\n",
        "while power <= N:\n",
        "    print(power, end=\" \")\n",
        "    power *= 2"
      ],
      "metadata": {
        "colab": {
          "base_uri": "https://localhost:8080/"
        },
        "id": "QUcKuZqWL5BB",
        "outputId": "ef3bb2e7-9ac1-4e42-f6fa-bb275c41586c"
      },
      "execution_count": null,
      "outputs": [
        {
          "output_type": "stream",
          "name": "stdout",
          "text": [
            "Введите число: 50\n",
            "1 2 4 8 16 32 "
          ]
        }
      ]
    },
    {
      "cell_type": "markdown",
      "source": [
        "#Task 6"
      ],
      "metadata": {
        "id": "XHcoFSqcEysx"
      }
    },
    {
      "cell_type": "markdown",
      "source": [
        "Задача 6*\n",
        "Сначала на вход поступает длина последовательности N. Затем элементы последовательности – целые числа. Напишите программу, которая подсчитывает количество положительных чисел среди элементов последовательности.\n",
        "Пример ввода:\n",
        "5\n",
        "1\n",
        "2\n",
        "3\n",
        "-1\n",
        "-4\n",
        "Пример вывода:\n",
        "3"
      ],
      "metadata": {
        "id": "uY2p6nAjMXFl"
      }
    },
    {
      "cell_type": "code",
      "source": [
        "N = int(input(\"Введите длину последовательности: \"))\n",
        "\n",
        "numbers = []\n",
        "for _ in range(N):\n",
        "    numbers.append(int(input()))\n",
        "\n",
        "positive_count = sum(1 for num in numbers if num > 0)\n",
        "\n",
        "print(positive_count)"
      ],
      "metadata": {
        "colab": {
          "base_uri": "https://localhost:8080/"
        },
        "id": "ViPmD4aIMfdw",
        "outputId": "ec7f9c84-a686-447f-ba96-4f996a95649a"
      },
      "execution_count": null,
      "outputs": [
        {
          "output_type": "stream",
          "name": "stdout",
          "text": [
            "Введите длину последовательности: 5\n",
            "1\n",
            "2\n",
            "3\n",
            "-1\n",
            "-4\n",
            "3\n"
          ]
        }
      ]
    },
    {
      "cell_type": "markdown",
      "source": [
        "#Task 7"
      ],
      "metadata": {
        "id": "48AWJBNxE0LT"
      }
    },
    {
      "cell_type": "markdown",
      "source": [
        "Задача 7*\n",
        "Последовательность состоит из натуральных чисел и завершается числом 0. Определите количество элементов этой последовательности, которые равны ее наибольшему элементу.\n",
        "Пример ввода:\n",
        "1\n",
        "3\n",
        "3\n",
        "1\n",
        "0\n",
        "Пример вывода:\n",
        "2"
      ],
      "metadata": {
        "id": "Y76kdHlgM1Bh"
      }
    },
    {
      "cell_type": "code",
      "source": [
        "max_el = int(input(\"Введите число \"))\n",
        "count = 1\n",
        "tmp = max_el\n",
        "while tmp != 0:\n",
        "  tmp = int(input(\"Введите число \"))\n",
        "  if tmp == max_el:\n",
        "    count +=1\n",
        "  elif tmp > max_el:\n",
        "    count = 1\n",
        "    max_el = tmp\n",
        "\n",
        "print(count)\n"
      ],
      "metadata": {
        "colab": {
          "base_uri": "https://localhost:8080/"
        },
        "id": "tT4VNq5GM2O-",
        "outputId": "cd32bdbc-5a89-484a-bded-d1dbef11a07a"
      },
      "execution_count": null,
      "outputs": [
        {
          "output_type": "stream",
          "name": "stdout",
          "text": [
            "Введите число 1\n",
            "Введите число 3\n",
            "Введите число 3\n",
            "Введите число 1\n",
            "Введите число 0\n",
            "2\n"
          ]
        }
      ]
    },
    {
      "cell_type": "markdown",
      "source": [
        "#Task 8"
      ],
      "metadata": {
        "id": "kYidM0EpE15V"
      }
    },
    {
      "cell_type": "markdown",
      "source": [
        "Задача 8*\n",
        "Напишите функцию my_sort, которая принимает двумерный массив n x n, а возвращает элементы массива, расположенные от самых крайних элементов до среднего элемента, таким образом, чтобы происходило перемещение по часовой стрелке.\n",
        "То есть функция должна преобразовывать array = [ [1,2,3], [4,5,6], [7,8,9] ]\n",
        "my_sort(array) #=> [1,2,3,6,9,8,7,4,5]\n",
        "Еще один пример работы функции:\n",
        "array = [ [1,2,3], [8,9,4], [7,6,5] ] my_sort(array) #=> [1,2,3,4,5,6,7,8,9]"
      ],
      "metadata": {
        "id": "Ei9mI3_8NodI"
      }
    },
    {
      "cell_type": "code",
      "source": [
        "n = int(input(\"Размер матрицы (n x n): \"))\n",
        "\n",
        "matrix = []\n",
        "for i in range(n):\n",
        "    row = []\n",
        "    for j in range(n):\n",
        "        element = int(input(f\"Введите элемент [{i},{j}] матрицы: \"))\n",
        "        row.append(element)\n",
        "    matrix.append(row)\n",
        "\n",
        "def spiral_traverse(matrix):\n",
        "    result = []\n",
        "    top, bottom = 0, len(matrix) - 1\n",
        "    left, right = 0, len(matrix[0]) - 1\n",
        "\n",
        "    while top <= bottom and left <= right:\n",
        "        for col in range(left, right + 1):\n",
        "            result.append(matrix[top][col])\n",
        "        top += 1\n",
        "\n",
        "        for row in range(top, bottom + 1):\n",
        "            result.append(matrix[row][right])\n",
        "        right -= 1\n",
        "\n",
        "        if top <= bottom:\n",
        "            for col in reversed(range(left, right + 1)):\n",
        "                result.append(matrix[bottom][col])\n",
        "            bottom -= 1\n",
        "\n",
        "        if left <= right:\n",
        "            for row in reversed(range(top, bottom + 1)):\n",
        "                result.append(matrix[row][left])\n",
        "            left += 1\n",
        "\n",
        "    return result\n",
        "\n",
        "spiral_order = spiral_traverse(matrix)\n",
        "print(spiral_order)"
      ],
      "metadata": {
        "colab": {
          "base_uri": "https://localhost:8080/"
        },
        "id": "DsaZZhJ3NuoJ",
        "outputId": "df635922-b5a1-4d16-ff55-ccdc5a9955b0"
      },
      "execution_count": null,
      "outputs": [
        {
          "output_type": "stream",
          "name": "stdout",
          "text": [
            "Размер матрицы (n x n): 3\n",
            "Введите элемент [0,0] матрицы: 1\n",
            "Введите элемент [0,1] матрицы: 2\n",
            "Введите элемент [0,2] матрицы: 3\n",
            "Введите элемент [1,0] матрицы: 4\n",
            "Введите элемент [1,1] матрицы: 5\n",
            "Введите элемент [1,2] матрицы: 6\n",
            "Введите элемент [2,0] матрицы: 7\n",
            "Введите элемент [2,1] матрицы: 8\n",
            "Введите элемент [2,2] матрицы: 9\n",
            "[1, 2, 3, 6, 9, 8, 7, 4, 5]\n"
          ]
        }
      ]
    },
    {
      "cell_type": "markdown",
      "source": [
        "#Task 9"
      ],
      "metadata": {
        "id": "1_Ovll6lE3oy"
      }
    },
    {
      "cell_type": "markdown",
      "source": [
        "Задача 9*\n",
        "Создайте класс Laptop, у которого есть:\n",
        "•\tКонструктор, принимающий 3 аргумента: бренд, модель и цену ноутбука. На основании этих аргументов нужно для экземпляра создать атрибуты brand, model, price и также атрибут laptop_name — строковое значение, следующего вида: « brand model>»\n",
        "•\tМетод laptop_name возврашающий аналогичное значение поля.\n",
        "In [ ]:\n",
        "\n",
        "hp = Laptop('hp', '15-bw0xx', 57000)\n",
        "print(hp.price) # выводит 57000\n",
        "print(hp.laptop_name()) # выводит \"hp 15-bw0xx\"\n"
      ],
      "metadata": {
        "id": "R3EP1lc4OqjP"
      }
    },
    {
      "cell_type": "code",
      "source": [
        "class Laptop:\n",
        "  brand: str\n",
        "  model: str\n",
        "  price: int\n",
        "  __laptop_name: str\n",
        "\n",
        "  def __init__(self, brand: str, model: str, price: int):\n",
        "    self.brand = brand\n",
        "    self.model = model\n",
        "    self.price = price\n",
        "    self.__laptop_name = brand + \" \" + model\n",
        "\n",
        "  def laptop_name(self) -> str:\n",
        "    return  self.__laptop_name\n",
        "\n",
        "\n",
        "hp = Laptop('hp', '15-bw0xx', 57000)\n",
        "print(hp.price) # выводит 57000\n",
        "print(hp.laptop_name()) # выводит \"hp 15-bw0xx\"\n"
      ],
      "metadata": {
        "colab": {
          "base_uri": "https://localhost:8080/"
        },
        "id": "OoECZ6R8QF_L",
        "outputId": "0a3fcba9-2ced-43b9-c456-eace4b8f27ff"
      },
      "execution_count": null,
      "outputs": [
        {
          "output_type": "stream",
          "name": "stdout",
          "text": [
            "57000\n",
            "hp 15-bw0xx\n"
          ]
        }
      ]
    },
    {
      "cell_type": "markdown",
      "source": [
        "#Task 10"
      ],
      "metadata": {
        "id": "RNQXnB_bE5Su"
      }
    },
    {
      "cell_type": "markdown",
      "source": [
        "Задача 10*\n",
        "Нужно создать функционал для упрошенного описания экономических отношений между работодателем, работником и компанией. Нужно реализовать классы Director, Employee, Company, Promise.\n",
        "У компании должен быть метод, позволяющей получить прибыль условных единиц (flot). У Компании всегда есть только один Director, количество Employee не ограниченно. Также у компании должен быть метод позволяющий начислить зарплату всем ее работникам, согласно Promise каждого сотрудника компании.\n",
        "У всех работников компании есть контракт с компанией о размере его заработной плате – Promise, а также есть имена, фамилии и номера СНИЛС(Id)\n",
        "Promise - содержит в себе СНИЛС(Id) работника, размер его зарабтной платы, и информацию о том, была ли начисленна плата сотруднику\n",
        "set_profit - метод, устанваливающий прибыль всей компании за некоторый промежуток времен.\n",
        "fulfill_promise – метод, начисялющий всем заработную плату согласно персональному Promise каждого работника, если это возможно. Возвращает булевое значение\n",
        "Замечание: метод set_profit устанавливает прибыль для комании. Компания в свою очередь, пытается выплатить заработную плату всем сотрудникам компании методом fulfill_promise. Если баланса компании хватает на выплаты всем участникам компании, то fulfill_promise возвращает true, в противном случаее false\n",
        "Пример кода, который должен работать\n",
        "vk = Company(balance=50)\n",
        "vk.create_director(\n",
        "  first_name = \"Владимир\",\n",
        "  second_name = \"Кириенко\",\n",
        "  Id = 1,\n",
        "  salary = 15\n",
        "  )\n",
        "\n",
        "vk.create_employee(\n",
        "  first_name = \"Елена\",\n",
        "  second_name = \"Иванова\",\n",
        "  Id = 2,\n",
        "  salary = 8\n",
        ")\n",
        "\n",
        "vk.create_employee(\n",
        "  first_name = \"Виктор\",\n",
        "  second_name = \"Кузнецов\",\n",
        "  Id = 3,\n",
        "  salary = 6\n",
        ")\n",
        "\n",
        "vk.set_profit(145.12)\n",
        "vk.fulfill_promise()\n",
        "\n",
        "director = vk.director()\n",
        "director.check_promises() # true\n",
        "\n",
        "vk.set_profit(-200)\n",
        "vk.fulfill_promise()\n",
        "\n",
        "director.check_promises() # false"
      ],
      "metadata": {
        "id": "6zxiw9CxQZ6F"
      }
    },
    {
      "cell_type": "code",
      "source": [
        "class Employee:\n",
        "    def __init__(self, first_name, second_name, employee_id, salary):\n",
        "        self.first_name = first_name\n",
        "        self.second_name = second_name\n",
        "        self.employee_id = employee_id\n",
        "        self.salary = salary\n",
        "        self.paid = False\n",
        "\n",
        "    def pay_salary(self):\n",
        "        self.paid = True\n",
        "\n",
        "class Company:\n",
        "    def __init__(self, initial_balance=0):\n",
        "        self.balance = initial_balance\n",
        "        self.employees = []\n",
        "\n",
        "    def hire_employee(self, employee):\n",
        "        self.employees.append(employee)\n",
        "\n",
        "    def set_profit(self, profit):\n",
        "        self.balance += profit\n",
        "\n",
        "    def pay_all_employees(self):\n",
        "        total_salary = sum(employee.salary for employee in self.employees)\n",
        "        if self.balance >= total_salary:\n",
        "            for employee in self.employees:\n",
        "                employee.pay_salary()\n",
        "            return True\n",
        "        return False\n",
        "\n",
        "# Пользователь вводит начальный баланс компании\n",
        "balance = int(input(\"Начальный баланс компании: \"))\n",
        "company = Company(balance)\n",
        "\n",
        "# Сотрудники и директор\n",
        "director_first_name = input(\"Имя директора: \")\n",
        "director_second_name = input(\"Фамилия директора: \")\n",
        "director_id = int(input(\"ID директора: \"))\n",
        "director_salary = int(input(\"Зарплата директора: \"))\n",
        "director = Employee(director_first_name, director_second_name, director_id, director_salary)\n",
        "company.hire_employee(director)\n",
        "\n",
        "employee_count = int(input(\"Количество сотрудников: \"))\n",
        "for i in range(employee_count):\n",
        "    first_name = input(f\"Имя сотрудника {i+1}: \")\n",
        "    second_name = input(f\"Фамилия сотрудника {i+1}: \")\n",
        "    employee_id = int(input(f\"ID сотрудника {i+1}: \"))\n",
        "    salary = int(input(f\"Зарплата сотрудника {i+1}: \"))\n",
        "    company.hire_employee(Employee(first_name, second_name, employee_id, salary))\n",
        "\n",
        "# Устанавливаем прибыль компании\n",
        "profit = int(input(\"Прибыль компании: \"))\n",
        "company.set_profit(profit)\n",
        "\n",
        "# Выплачиваем зарплаты\n",
        "paid_status = company.pay_all_employees()\n",
        "if paid_status:\n",
        "    print(\"Зарплаты выплачены.\")\n",
        "else:\n",
        "    print(\"Недостаточно средств для выплат.\")"
      ],
      "metadata": {
        "colab": {
          "base_uri": "https://localhost:8080/"
        },
        "id": "RWRSCgEuQqWd",
        "outputId": "1a0bbc04-96dc-42f2-bbbb-9cfd16a18134"
      },
      "execution_count": null,
      "outputs": [
        {
          "output_type": "stream",
          "name": "stdout",
          "text": [
            "Начальный баланс компании: 10000\n",
            "Имя директора: Гена\n",
            "Фамилия директора: Горбатый\n",
            "ID директора: 356\n",
            "Зарплата директора: 9999\n",
            "Количество сотрудников: 1\n",
            "Имя сотрудника 1: Перс\n",
            "Фамилия сотрудника 1: Пирс\n",
            "ID сотрудника 1: 345\n",
            "Зарплата сотрудника 1: 100\n",
            "Прибыль компании: 100\n",
            "Зарплаты выплачены.\n"
          ]
        }
      ]
    }
  ]
}